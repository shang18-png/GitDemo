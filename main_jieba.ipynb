{
 "cells": [
  {
   "cell_type": "markdown",
   "id": "583c7791-ae38-4de6-9759-72f2a1f784e1",
   "metadata": {},
   "source": [
    "#结巴分词实践"
   ]
  },
  {
   "cell_type": "code",
   "execution_count": null,
   "id": "1b2d46a5-dfcb-4957-ad6c-857c70323703",
   "metadata": {},
   "outputs": [],
   "source": [
    "##结巴分词的三种模式"
   ]
  },
  {
   "cell_type": "code",
   "execution_count": null,
   "id": "fbf18b0e-d82c-487a-9342-2590ad86d621",
   "metadata": {},
   "outputs": [],
   "source": [
    "###精确模式"
   ]
  },
  {
   "cell_type": "code",
   "execution_count": 4,
   "id": "76795e0d-f410-4397-88a0-fdae66aecd93",
   "metadata": {},
   "outputs": [
    {
     "name": "stdout",
     "output_type": "stream",
     "text": [
      "Default Mode: 我/ 来到/ 北京/ 清华大学\n"
     ]
    }
   ],
   "source": [
    "import jieba\n",
    "seg_list = jieba.cut(\"我来到北京清华大学\", cut_all=False)\n",
    "print(\"Default Mode: \" + \"/ \".join(seg_list))  # 精确模式"
   ]
  },
  {
   "cell_type": "code",
   "execution_count": null,
   "id": "062a50b7-aa1b-4d71-8995-cb9b1d7f5172",
   "metadata": {},
   "outputs": [],
   "source": [
    "###全模式"
   ]
  },
  {
   "cell_type": "code",
   "execution_count": 5,
   "id": "349acce4-e158-4158-82f4-4458469bf3b7",
   "metadata": {},
   "outputs": [
    {
     "name": "stdout",
     "output_type": "stream",
     "text": [
      "Full Mode: 我/ 来到/ 北京/ 清华/ 清华大学/ 华大/ 大学\n"
     ]
    }
   ],
   "source": [
    "seg_list = jieba.cut(\"我来到北京清华大学\", cut_all=True)\n",
    "print(\"Full Mode: \" + \"/ \".join(seg_list))  # 全模式"
   ]
  },
  {
   "cell_type": "code",
   "execution_count": null,
   "id": "735c51f4-68d1-4762-a5d4-5151c1cfd14c",
   "metadata": {},
   "outputs": [],
   "source": [
    "###搜索引擎模式"
   ]
  },
  {
   "cell_type": "code",
   "execution_count": 6,
   "id": "cf13ad88-f27d-4c21-ac9d-e7602a49aa1b",
   "metadata": {},
   "outputs": [
    {
     "name": "stdout",
     "output_type": "stream",
     "text": [
      "小明, 硕士, 毕业, 于, 中国, 科学, 学院, 科学院, 中国科学院, 计算, 计算所, ，, 后, 在, 日本, 京都, 大学, 日本京都大学, 深造\n"
     ]
    }
   ],
   "source": [
    "seg_list = jieba.cut_for_search(\"小明硕士毕业于中国科学院计算所，后在日本京都大学深造\")  # 搜索引擎模式\n",
    "print(\", \".join(seg_list))"
   ]
  },
  {
   "cell_type": "code",
   "execution_count": null,
   "id": "58d7c769-f18e-4a6f-b610-c0b76dfb5097",
   "metadata": {},
   "outputs": [],
   "source": [
    "##载入词典"
   ]
  },
  {
   "cell_type": "code",
   "execution_count": 4,
   "id": "9f8a8539-8a7b-4336-905c-daaa0f03af50",
   "metadata": {},
   "outputs": [
    {
     "name": "stdout",
     "output_type": "stream",
     "text": [
      "Default Mode: 杨童舒/ 即将/ 是/ 自然语言/ 处理/ 方面/ 的/ 高手\n"
     ]
    }
   ],
   "source": [
    "import jieba\n",
    "jieba.load_userdict(\"userdict.txt\")\n",
    "seg_list = jieba.cut(\"杨童舒即将是自然语言处理方面的高手\", cut_all=False, HMM=False)\n",
    "print(\"Default Mode: \" + \"/ \".join(seg_list))"
   ]
  },
  {
   "cell_type": "code",
   "execution_count": null,
   "id": "0db34b6f-07b0-4d48-b681-139ff4a7aab6",
   "metadata": {},
   "outputs": [],
   "source": []
  }
 ],
 "metadata": {
  "kernelspec": {
   "display_name": "Python 3 (ipykernel)",
   "language": "python",
   "name": "python3"
  },
  "language_info": {
   "codemirror_mode": {
    "name": "ipython",
    "version": 3
   },
   "file_extension": ".py",
   "mimetype": "text/x-python",
   "name": "python",
   "nbconvert_exporter": "python",
   "pygments_lexer": "ipython3",
   "version": "3.12.7"
  }
 },
 "nbformat": 4,
 "nbformat_minor": 5
}
